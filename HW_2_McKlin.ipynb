{
  "nbformat": 4,
  "nbformat_minor": 0,
  "metadata": {
    "colab": {
      "provenance": [],
      "include_colab_link": true
    },
    "kernelspec": {
      "name": "python3",
      "display_name": "Python 3"
    },
    "language_info": {
      "name": "python"
    }
  },
  "cells": [
    {
      "cell_type": "markdown",
      "metadata": {
        "id": "view-in-github",
        "colab_type": "text"
      },
      "source": [
        "<a href=\"https://colab.research.google.com/github/hmcklin/CE-430/blob/main/HW_2_McKlin.ipynb\" target=\"_parent\"><img src=\"https://colab.research.google.com/assets/colab-badge.svg\" alt=\"Open In Colab\"/></a>"
      ]
    },
    {
      "cell_type": "markdown",
      "source": [
        "# HW 2\n",
        "\n",
        "There are two files on Blackboard that you will need. The files are real-life data files from an impact echo test and an impulse response test. At this time, you do not need to worry about what the tests are or how they are performed.\n",
        "\n",
        "Create a Python script that does the following **without the need for manually adjusting the code for each file (with exception of changing the file name)**:\n",
        "\n",
        "*   Imports one of the data files for analysis.\n",
        "*   Calculates the number of data points, $N_p$, the duration of the signal, $t_f$, and the sampling interval, $SI$.\n",
        "*   Plots the time-domain signal with properly labeled x- and y-axes.\n",
        "*   Calculates the magnitude of the FFT spectrum.\n",
        "*   Calculates the spectral line spacing, $\\Delta_f$.\n",
        "*   Plots the frequency-domain of the signal while automatically cutting off frequencies above the Nyquist frequency, $f_c$.\n",
        "*   (BONUS) Automatically determines the peak frequency and prints the result.\n",
        "*   (BONUS) Automatically determines the peak frequency and plots an arrow on the chart with a callout of the peak frequency value.   \n",
        "\n",
        "## Grad Students (Anyone enrolled in the 500-level course)\n",
        " \n",
        "*  Plots the frequency-domain with the x-axis being the data point number, not frequency. This is for determining the noise floor.\n",
        "*  Calculates the signal-noise ratio (SNR) of the signal in the frequency domain using:\n",
        "\n",
        "$SNR_{dB}=10\\log\\left( \\dfrac{\\sigma^2_s}{\\sigma^2_n}\\right)$\n",
        "\n",
        "where $\\sigma_s$ is the standard deviation of the entire signal and $\\sigma_n$ is the standard deviation of the noise.\n",
        "\n",
        "This table will put the SNR values into some context. For example, if we calculate the SNR to be 20 dB, that means our signal we're trying to measure is 100 times more powerful than the noise!\n",
        "\n",
        "| dB | Power Ratio |\n",
        "|:--:|-------------|\n",
        "| 50 | 100,000     |\n",
        "| 40 | 10,000      |\n",
        "| 30 | 1,000       |\n",
        "| 20 | 100         |\n",
        "| 10 | 10          |\n",
        "|  6 | 3.981       |\n",
        "|  3 | 1.995       |\n",
        "|  1 | 1.259       |\n",
        "|  0 | 1           |\n"
      ],
      "metadata": {
        "id": "1h4pSGCf96js"
      }
    },
    {
      "cell_type": "markdown",
      "source": [
        "Importing necessary tools:"
      ],
      "metadata": {
        "id": "BI4jmnNXLuiM"
      }
    },
    {
      "cell_type": "code",
      "execution_count": 2,
      "metadata": {
        "id": "xykSpQT493rT"
      },
      "outputs": [],
      "source": [
        "import numpy as np\n",
        "import matplotlib.pyplot as plt\n",
        "import scipy as sp\n",
        "import pandas as pd\n",
        "from scipy import integrate as spi\n",
        "\n",
        "from pandas.compat import numpy\n",
        "big_embedded = pd.read_csv('Big_Embedded.txt',sep='\\t',names=('Time','Signal'),header=None)\n",
        "Time = np.array(big_embedded.Time)\n",
        "Signal = np.array(big_embedded.Signal)\n",
        "\n",
        "from scipy.fft import fft,fftfreq"
      ]
    },
    {
      "cell_type": "markdown",
      "source": [
        "First we will plot the time-domain signal:"
      ],
      "metadata": {
        "id": "ugCoTS39CXYB"
      }
    },
    {
      "cell_type": "code",
      "source": [
        "plt.plot(Time,Signal)\n",
        "plt.xlabel('Time (s)')\n",
        "plt.ylabel('Signal')"
      ],
      "metadata": {
        "colab": {
          "base_uri": "https://localhost:8080/",
          "height": 297
        },
        "id": "pk8Vzj6BCjHR",
        "outputId": "4f8517d4-e258-41ce-bdf9-88987560e469"
      },
      "execution_count": 3,
      "outputs": [
        {
          "output_type": "execute_result",
          "data": {
            "text/plain": [
              "Text(0, 0.5, 'Signal')"
            ]
          },
          "metadata": {},
          "execution_count": 3
        },
        {
          "output_type": "display_data",
          "data": {
            "text/plain": [
              "<Figure size 432x288 with 1 Axes>"
            ],
            "image/png": "[encoded data removed]"
          },
          "metadata": {
            "needs_background": "light"
          }
        }
      ]
    },
    {
      "cell_type": "markdown",
      "source": [
        "Next we will calculate relevant values:"
      ],
      "metadata": {
        "id": "Do1dntYWCpoP"
      }
    },
    {
      "cell_type": "code",
      "source": [
        "N_p = len(Signal)\n",
        "t_f = len(Time)*0.001\n",
        "SI = t_f*1/N_p\n",
        "deltaf = 1/t_f\n",
        "Magnitude = abs(max(fft(Signal)))\n",
        "\n",
        "print('N_p, the nunber of data points:')\n",
        "print(N_p)\n",
        "\n",
        "print('t_f, the duration of the signal (s):')\n",
        "print(t_f)\n",
        "\n",
        "print('SI, the sampling interval:')\n",
        "print(SI)\n",
        "\n",
        "print('deltaf, the spectral line spacing:')\n",
        "print(deltaf)\n",
        "\n",
        "print('Magnitude of the FFT (a.u.):')\n",
        "print(Magnitude)"
      ],
      "metadata": {
        "colab": {
          "base_uri": "https://localhost:8080/"
        },
        "id": "fSFDNmXKCwK7",
        "outputId": "ccc83a61-1558-42bb-f7e2-4e90448027d5"
      },
      "execution_count": 25,
      "outputs": [
        {
          "output_type": "stream",
          "name": "stdout",
          "text": [
            "N_p, the nunber of data points:\n",
            "8000\n",
            "t_f, the duration of the signal (s):\n",
            "8.0\n",
            "SI, the sampling interval:\n",
            "0.001\n",
            "deltaf, the spectral line spacing:\n",
            "0.125\n",
            "Magnitude of the FFT (a.u.):\n",
            "504.9018019604716\n"
          ]
        }
      ]
    },
    {
      "cell_type": "markdown",
      "source": [
        "Now we will execute the fast fourier transform:"
      ],
      "metadata": {
        "id": "AJBdKaqTIUOx"
      }
    },
    {
      "cell_type": "code",
      "source": [
        "yf = fft(Signal)\n",
        "\n",
        "xf = fftfreq(N_p, SI)\n",
        "\n",
        "fc = 1/(2*SI)\n",
        "\n",
        "plt.plot(xf,np.abs(yf))\n",
        "plt.xlim(0,fc)\n",
        "plt.xlabel('Frequency (Hz)')\n",
        "plt.ylabel('Amplitude (a.u.)')\n",
        "\n",
        "max_y = max(abs(yf))  # Find the maximum y value\n",
        "max_x = xf[yf.argmax()] # Find the corresponding x value\n",
        "print('The peak frequency (Hz):')\n",
        "print(max_x)\n"
      ],
      "metadata": {
        "colab": {
          "base_uri": "https://localhost:8080/",
          "height": 315
        },
        "id": "1qkFuG33I8uC",
        "outputId": "46d21014-3545-44ea-fb61-0703f6640789"
      },
      "execution_count": 26,
      "outputs": [
        {
          "output_type": "stream",
          "name": "stdout",
          "text": [
            "The peak frequency (Hz):\n",
            "4.875\n"
          ]
        },
        {
          "output_type": "display_data",
          "data": {
            "text/plain": [
              "<Figure size 432x288 with 1 Axes>"
            ],
            "image/png": "[encoded data removed]"
          },
          "metadata": {
            "needs_background": "light"
          }
        }
      ]
    }
  ]
}