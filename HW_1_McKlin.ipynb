{
  "nbformat": 4,
  "nbformat_minor": 0,
  "metadata": {
    "colab": {
      "provenance": [],
      "include_colab_link": true
    },
    "kernelspec": {
      "name": "python3",
      "display_name": "Python 3"
    },
    "language_info": {
      "name": "python"
    }
  },
  "cells": [
    {
      "cell_type": "markdown",
      "metadata": {
        "id": "view-in-github",
        "colab_type": "text"
      },
      "source": [
        "<a href=\"https://colab.research.google.com/github/hmcklin/CE-430/blob/main/HW_1_McKlin.ipynb\" target=\"_parent\"><img src=\"https://colab.research.google.com/assets/colab-badge.svg\" alt=\"Open In Colab\"/></a>"
      ]
    },
    {
      "cell_type": "markdown",
      "source": [
        "# HW 1 - Intro to Python\n",
        "\n",
        "This short homework assignment will make sure you are able to work through Python and can handle the aspects that will be important for this course. Feel free to email myself of Lance if you get stuck.\n",
        "\n",
        "## Question 1\n",
        "\n",
        "Copy this notebook over to your account!\n",
        "\n",
        "## Question 2\n",
        "\n",
        "Load up all the libraries that will be needed for this course. Load the full library. As Lance mentioned, we should probably use abbreviations to shorten what we need to type each time. So the commonly accepted abbreviations for the packages are shown in parantheses.\n",
        "\n",
        "\n",
        "*   NumPy (np)\n",
        "*   Matplotlib.pyplot (plt)\n",
        "*   SciPy (sp)\n",
        "*   Pandas (pd)\n"
      ],
      "metadata": {
        "id": "u9eELLhK22kj"
      }
    },
    {
      "cell_type": "code",
      "execution_count": 10,
      "metadata": {
        "id": "MyIaUyPu2x_S"
      },
      "outputs": [],
      "source": [
        "import numpy as np\n",
        "import matplotlib.pyplot as plt\n",
        "import scipy as sp\n",
        "import pandas as pd\n",
        "from scipy import integrate as spi"
      ]
    },
    {
      "cell_type": "markdown",
      "source": [
        "## Question 3\n",
        "\n",
        "Upload the file on Blackboard to this notebook and import the data using Pandas. If successful you should have imported 3 columns and 8000 rows of data. The first column is time, in seconds. The second column is the signal voltage. The third column is a random factor applied to the signal.\n",
        "\n",
        "There are two parts to this question. First, import the data file into a single variable. Then, extract the columns of data from that variable to new variables of `Time`, `Signal`, and `RFactor`.\n"
      ],
      "metadata": {
        "id": "qF3WSdaC3vKJ"
      }
    },
    {
      "cell_type": "code",
      "source": [
        "from pandas.compat import numpy\n",
        "big_free = pd.read_csv('Big_Free.txt',sep='\\t',names=('Time','Signal','RFactor'),header=None)\n",
        "\n",
        "Time = np.array(big_free.Time)\n",
        "Signal = np.array(big_free.Signal)\n",
        "RFactor = np.array(big_free.RFactor)\n",
        "\n",
        "big_free"
      ],
      "metadata": {
        "id": "qBM5Ls8D4Ky7",
        "colab": {
          "base_uri": "https://localhost:8080/",
          "height": 424
        },
        "outputId": "b28c9cf4-fa4f-42fd-998c-6f1282ac4d80"
      },
      "execution_count": 3,
      "outputs": [
        {
          "output_type": "execute_result",
          "data": {
            "text/plain": [
              "          Time    Signal   RFactor\n",
              "0     0.000000 -0.060406  0.131810\n",
              "1     0.000001 -0.061051  0.655174\n",
              "2     0.000002 -0.060406  0.266037\n",
              "3     0.000003 -0.061051  0.732967\n",
              "4     0.000004 -0.061373  0.076549\n",
              "...        ...       ...       ...\n",
              "7995  0.007995 -0.042045  0.294971\n",
              "7996  0.007996 -0.040756  0.589732\n",
              "7997  0.007997 -0.039145  0.399244\n",
              "7998  0.007998 -0.037535  0.990477\n",
              "7999  0.007999 -0.036246  0.810163\n",
              "\n",
              "[8000 rows x 3 columns]"
            ],
            "text/html": [
              "\n",
              "  <div id=\"df-1c9bbad2-bdd5-42f9-903e-38e1b848be12\">\n",
              "    <div class=\"colab-df-container\">\n",
              "      <div>\n",
              "<style scoped>\n",
              "    .dataframe tbody tr th:only-of-type {\n",
              "        vertical-align: middle;\n",
              "    }\n",
              "\n",
              "    .dataframe tbody tr th {\n",
              "        vertical-align: top;\n",
              "    }\n",
              "\n",
              "    .dataframe thead th {\n",
              "        text-align: right;\n",
              "    }\n",
              "</style>\n",
              "<table border=\"1\" class=\"dataframe\">\n",
              "  <thead>\n",
              "    <tr style=\"text-align: right;\">\n",
              "      <th></th>\n",
              "      <th>Time</th>\n",
              "      <th>Signal</th>\n",
              "      <th>RFactor</th>\n",
              "    </tr>\n",
              "  </thead>\n",
              "  <tbody>\n",
              "    <tr>\n",
              "      <th>0</th>\n",
              "      <td>0.000000</td>\n",
              "      <td>-0.060406</td>\n",
              "      <td>0.131810</td>\n",
              "    </tr>\n",
              "    <tr>\n",
              "      <th>1</th>\n",
              "      <td>0.000001</td>\n",
              "      <td>-0.061051</td>\n",
              "      <td>0.655174</td>\n",
              "    </tr>\n",
              "    <tr>\n",
              "      <th>2</th>\n",
              "      <td>0.000002</td>\n",
              "      <td>-0.060406</td>\n",
              "      <td>0.266037</td>\n",
              "    </tr>\n",
              "    <tr>\n",
              "      <th>3</th>\n",
              "      <td>0.000003</td>\n",
              "      <td>-0.061051</td>\n",
              "      <td>0.732967</td>\n",
              "    </tr>\n",
              "    <tr>\n",
              "      <th>4</th>\n",
              "      <td>0.000004</td>\n",
              "      <td>-0.061373</td>\n",
              "      <td>0.076549</td>\n",
              "    </tr>\n",
              "    <tr>\n",
              "      <th>...</th>\n",
              "      <td>...</td>\n",
              "      <td>...</td>\n",
              "      <td>...</td>\n",
              "    </tr>\n",
              "    <tr>\n",
              "      <th>7995</th>\n",
              "      <td>0.007995</td>\n",
              "      <td>-0.042045</td>\n",
              "      <td>0.294971</td>\n",
              "    </tr>\n",
              "    <tr>\n",
              "      <th>7996</th>\n",
              "      <td>0.007996</td>\n",
              "      <td>-0.040756</td>\n",
              "      <td>0.589732</td>\n",
              "    </tr>\n",
              "    <tr>\n",
              "      <th>7997</th>\n",
              "      <td>0.007997</td>\n",
              "      <td>-0.039145</td>\n",
              "      <td>0.399244</td>\n",
              "    </tr>\n",
              "    <tr>\n",
              "      <th>7998</th>\n",
              "      <td>0.007998</td>\n",
              "      <td>-0.037535</td>\n",
              "      <td>0.990477</td>\n",
              "    </tr>\n",
              "    <tr>\n",
              "      <th>7999</th>\n",
              "      <td>0.007999</td>\n",
              "      <td>-0.036246</td>\n",
              "      <td>0.810163</td>\n",
              "    </tr>\n",
              "  </tbody>\n",
              "</table>\n",
              "<p>8000 rows × 3 columns</p>\n",
              "</div>\n",
              "      <button class=\"colab-df-convert\" onclick=\"convertToInteractive('df-1c9bbad2-bdd5-42f9-903e-38e1b848be12')\"\n",
              "              title=\"Convert this dataframe to an interactive table.\"\n",
              "              style=\"display:none;\">\n",
              "        \n",
              "  <svg xmlns=\"http://www.w3.org/2000/svg\" height=\"24px\"viewBox=\"0 0 24 24\"\n",
              "       width=\"24px\">\n",
              "    <path d=\"M0 0h24v24H0V0z\" fill=\"none\"/>\n",
              "    <path d=\"M18.56 5.44l.94 2.06.94-2.06 2.06-.94-2.06-.94-.94-2.06-.94 2.06-2.06.94zm-11 1L8.5 8.5l.94-2.06 2.06-.94-2.06-.94L8.5 2.5l-.94 2.06-2.06.94zm10 10l.94 2.06.94-2.06 2.06-.94-2.06-.94-.94-2.06-.94 2.06-2.06.94z\"/><path d=\"M17.41 7.96l-1.37-1.37c-.4-.4-.92-.59-1.43-.59-.52 0-1.04.2-1.43.59L10.3 9.45l-7.72 7.72c-.78.78-.78 2.05 0 2.83L4 21.41c.39.39.9.59 1.41.59.51 0 1.02-.2 1.41-.59l7.78-7.78 2.81-2.81c.8-.78.8-2.07 0-2.86zM5.41 20L4 18.59l7.72-7.72 1.47 1.35L5.41 20z\"/>\n",
              "  </svg>\n",
              "      </button>\n",
              "      \n",
              "  <style>\n",
              "    .colab-df-container {\n",
              "      display:flex;\n",
              "      flex-wrap:wrap;\n",
              "      gap: 12px;\n",
              "    }\n",
              "\n",
              "    .colab-df-convert {\n",
              "      background-color: #E8F0FE;\n",
              "      border: none;\n",
              "      border-radius: 50%;\n",
              "      cursor: pointer;\n",
              "      display: none;\n",
              "      fill: #1967D2;\n",
              "      height: 32px;\n",
              "      padding: 0 0 0 0;\n",
              "      width: 32px;\n",
              "    }\n",
              "\n",
              "    .colab-df-convert:hover {\n",
              "      background-color: #E2EBFA;\n",
              "      box-shadow: 0px 1px 2px rgba(60, 64, 67, 0.3), 0px 1px 3px 1px rgba(60, 64, 67, 0.15);\n",
              "      fill: #174EA6;\n",
              "    }\n",
              "\n",
              "    [theme=dark] .colab-df-convert {\n",
              "      background-color: #3B4455;\n",
              "      fill: #D2E3FC;\n",
              "    }\n",
              "\n",
              "    [theme=dark] .colab-df-convert:hover {\n",
              "      background-color: #434B5C;\n",
              "      box-shadow: 0px 1px 3px 1px rgba(0, 0, 0, 0.15);\n",
              "      filter: drop-shadow(0px 1px 2px rgba(0, 0, 0, 0.3));\n",
              "      fill: #FFFFFF;\n",
              "    }\n",
              "  </style>\n",
              "\n",
              "      <script>\n",
              "        const buttonEl =\n",
              "          document.querySelector('#df-1c9bbad2-bdd5-42f9-903e-38e1b848be12 button.colab-df-convert');\n",
              "        buttonEl.style.display =\n",
              "          google.colab.kernel.accessAllowed ? 'block' : 'none';\n",
              "\n",
              "        async function convertToInteractive(key) {\n",
              "          const element = document.querySelector('#df-1c9bbad2-bdd5-42f9-903e-38e1b848be12');\n",
              "          const dataTable =\n",
              "            await google.colab.kernel.invokeFunction('convertToInteractive',\n",
              "                                                     [key], {});\n",
              "          if (!dataTable) return;\n",
              "\n",
              "          const docLinkHtml = 'Like what you see? Visit the ' +\n",
              "            '<a target=\"_blank\" href=https://colab.research.google.com/notebooks/data_table.ipynb>data table notebook</a>'\n",
              "            + ' to learn more about interactive tables.';\n",
              "          element.innerHTML = '';\n",
              "          dataTable['output_type'] = 'display_data';\n",
              "          await google.colab.output.renderOutput(dataTable, element);\n",
              "          const docLink = document.createElement('div');\n",
              "          docLink.innerHTML = docLinkHtml;\n",
              "          element.appendChild(docLink);\n",
              "        }\n",
              "      </script>\n",
              "    </div>\n",
              "  </div>\n",
              "  "
            ]
          },
          "metadata": {},
          "execution_count": 3
        }
      ]
    },
    {
      "cell_type": "markdown",
      "source": [
        "## Question 4\n",
        "\n",
        "Multiply the `Time` array by 1000000 so that we don't have to read small numbers and the units we will assign on the graph will make sense. You can create a new variable or have Python overwrite the data in the `Time` variable. It's generally considered bad practice to overwrite variables, but for this class, we're going to be dealing with simple problems.\n",
        "\n",
        "There are several ways to multiply an array by a scalar. It doesn't matter which method you choose. This link may help: https://stackoverflow.com/questions/53485221/numpy-multiply-array-with-scalar\n",
        "\n",
        "Replot the graph."
      ],
      "metadata": {
        "id": "nULcbpCp4xF-"
      }
    },
    {
      "cell_type": "code",
      "source": [
        "Time_microseconds = Time*1000000\n",
        "Time_microseconds"
      ],
      "metadata": {
        "id": "l6306hXQ4wA3",
        "colab": {
          "base_uri": "https://localhost:8080/"
        },
        "outputId": "b9648311-48e3-4055-d2e5-63ca74f14bbf"
      },
      "execution_count": 4,
      "outputs": [
        {
          "output_type": "execute_result",
          "data": {
            "text/plain": [
              "array([0.000e+00, 1.000e+00, 2.000e+00, ..., 7.997e+03, 7.998e+03,\n",
              "       7.999e+03])"
            ]
          },
          "metadata": {},
          "execution_count": 4
        }
      ]
    },
    {
      "cell_type": "markdown",
      "source": [
        "## Question 5\n",
        "\n",
        "Plot the time column and signal column from the imported data. Label the x-axis as `Time (microseconds)` and the y-axis as `Signal (volts)`."
      ],
      "metadata": {
        "id": "H9YJD8gB4OFs"
      }
    },
    {
      "cell_type": "code",
      "source": [
        "plt.plot(Time_microseconds,Signal)\n",
        "\n",
        "plt.xlabel('Time (microseconds)')\n",
        "plt.ylabel('Signal')"
      ],
      "metadata": {
        "id": "Dj32nPGJ5kw0",
        "colab": {
          "base_uri": "https://localhost:8080/",
          "height": 296
        },
        "outputId": "f8f29bd4-8974-42a1-cc8a-a9ca96df64c5"
      },
      "execution_count": 5,
      "outputs": [
        {
          "output_type": "execute_result",
          "data": {
            "text/plain": [
              "Text(0, 0.5, 'Signal')"
            ]
          },
          "metadata": {},
          "execution_count": 5
        },
        {
          "output_type": "display_data",
          "data": {
            "text/plain": [
              "<Figure size 432x288 with 1 Axes>"
            ],
            "image/png": "[encoded data removed]"
          },
          "metadata": {
            "needs_background": "light"
          }
        }
      ]
    },
    {
      "cell_type": "markdown",
      "source": [
        "## Question 6\n",
        "\n",
        "Integrate the curve of `Time` vs. `Signal` using Simpson's rule. This function is provided in SciPy as `simpson`. However, the SciPy package is comprised of several modules, which need to be explictly imported. In this case, you need the `integrate` module. So go back up to where you were nicely importing all the packages and change the SciPy line to this:\n",
        "\n",
        "`from scipy import integrate as spi`\n",
        "\n",
        "Now when you want to use `simpson`, you don't need to type `sp.integrate.simpson`, you just need `spi.simpson` since you only imported the `integrate` modulue and assigned it as `spi`.\n",
        "\n",
        "To understand how to actually use the function, go to the function documentation here: https://docs.scipy.org/doc/scipy/reference/generated/scipy.integrate.simpson.html#scipy.integrate.simpson . There are some examples in the documentation that should help.\n",
        "\n",
        "If you've done everything correctly, your integral answer should be about -0.77 units."
      ],
      "metadata": {
        "id": "lCWcftgC5tZU"
      }
    },
    {
      "cell_type": "code",
      "source": [
        "spi.simpson(Signal)\n"
      ],
      "metadata": {
        "id": "pLbLEf9q8jdp",
        "colab": {
          "base_uri": "https://localhost:8080/"
        },
        "outputId": "fae71d1a-bf8a-454f-d249-7ea9a7bb6ade"
      },
      "execution_count": 9,
      "outputs": [
        {
          "output_type": "execute_result",
          "data": {
            "text/plain": [
              "-0.7734591666666659"
            ]
          },
          "metadata": {},
          "execution_count": 9
        }
      ]
    }
  ]
}